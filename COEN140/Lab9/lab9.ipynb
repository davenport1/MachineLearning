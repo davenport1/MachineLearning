{
 "cells": [
  {
   "cell_type": "code",
   "execution_count": 33,
   "id": "b4300640",
   "metadata": {},
   "outputs": [],
   "source": [
    "# Class: COEN 140 Lab Machine Learning/Data Mining\n",
    "# Name: Matthew Davenport\n",
    "# Date: 9/25/2022\n",
    "# Title: Lab 9 – Dimensionality Reduction\n",
    "\n",
    "import numpy as np\n",
    "import math"
   ]
  },
  {
   "cell_type": "code",
   "execution_count": 34,
   "id": "cccfd305",
   "metadata": {},
   "outputs": [
    {
     "name": "stdout",
     "output_type": "stream",
     "text": [
      "File unpickled successfully\n",
      "(2000, 784)\n"
     ]
    }
   ],
   "source": [
    "import pickle\n",
    "from sklearn.datasets import fetch_openml\n",
    "\n",
    "try: \n",
    "    with open(\"data.pickle\", \"rb\") as fp:\n",
    "        X_training = pickle.load(fp)\n",
    "    print(\"File unpickled successfully\")\n",
    "\n",
    "except FileNotFoundError:\n",
    "    mnist = fetch_openml('mnist_784', version=1)\n",
    "    X_training = mnist[\"data\"][:2000]\n",
    "    \n",
    "    with open(\"data.pickle\", \"wb\") as fp:\n",
    "        pickle.dump(X_training, fp)\n",
    "\n",
    "print(X_training.shape)"
   ]
  },
  {
   "cell_type": "markdown",
   "id": "2a11b425",
   "metadata": {},
   "source": [
    "Centering Data for PCA"
   ]
  },
  {
   "cell_type": "code",
   "execution_count": 39,
   "id": "96ae3845",
   "metadata": {},
   "outputs": [
    {
     "name": "stdout",
     "output_type": "stream",
     "text": [
      "Data shape:  (2000, 784)\n",
      "Data size:  2000\n",
      "Means shape:  (2000,)\n",
      "centered_data shape:  (2000, 784)\n",
      "Means:  [35.10841837 39.6619898  24.7997449  ... 54.42729592 27.80994898\n",
      " 77.75765306]\n",
      "784\n",
      "[[-35.10841837 -35.10841837 -35.10841837 ... -35.10841837 -35.10841837\n",
      "  -35.10841837]\n",
      " [-39.6619898  -39.6619898  -39.6619898  ... -39.6619898  -39.6619898\n",
      "  -39.6619898 ]\n",
      " [-24.7997449  -24.7997449  -24.7997449  ... -24.7997449  -24.7997449\n",
      "  -24.7997449 ]\n",
      " ...\n",
      " [-54.42729592 -54.42729592 -54.42729592 ... -54.42729592 -54.42729592\n",
      "  -54.42729592]\n",
      " [-27.80994898 -27.80994898 -27.80994898 ... -27.80994898 -27.80994898\n",
      "  -27.80994898]\n",
      " [-77.75765306 -77.75765306 -77.75765306 ... -77.75765306 -77.75765306\n",
      "  -77.75765306]]\n",
      "[ 6.67040119e-15 -2.90017443e-15  2.90017443e-15 ... -2.32013955e-15\n",
      "  1.16006977e-15  8.12048841e-15]\n",
      "[[0. 0. 0. ... 0. 0. 0.]\n",
      " [0. 0. 0. ... 0. 0. 0.]\n",
      " [0. 0. 0. ... 0. 0. 0.]\n",
      " ...\n",
      " [0. 0. 0. ... 0. 0. 0.]\n",
      " [0. 0. 0. ... 0. 0. 0.]\n",
      " [0. 0. 0. ... 0. 0. 0.]]\n",
      "(2000, 2000)\n"
     ]
    }
   ],
   "source": [
    "data = np.asarray(X_training)\n",
    "print(\"Data shape: \",data.shape)\n",
    "\n",
    "data_size = len(data)\n",
    "print(\"Data size: \",data_size)\n",
    "means = np.zeros(data_size)\n",
    "print(\"Means shape: \", means.shape)\n",
    "\n",
    "for i in range(data_size):\n",
    "    means[i] = np.mean(data[i])\n",
    "\n",
    "centered_data = np.zeros((data_size, len(data[0])))\n",
    "print(\"centered_data shape: \",centered_data.shape)\n",
    "print(\"Means: \", means)\n",
    "print(len(data[0]))\n",
    "for i in range(data_size):\n",
    "    for j in range(len(data[i])):\n",
    "        centered_data[i][j] = data[i][j] - means[i]\n",
    "        \n",
    "print(centered_data)\n",
    "\n",
    "means_check = np.zeros(data_size)\n",
    "for i in range(data_size):\n",
    "    means_check[i] = np.mean(centered_data[i])\n",
    "\n",
    "zeros = np.zeros(data_size)\n",
    "if np.array_equal(means_check, zeros, equal_nan=True):\n",
    "    print(\"Data centered successfully\")\n",
    "else:\n",
    "    print(means_check)\n",
    "\n",
    "print(data)\n",
    "\n",
    "centered_data_cov = np.cov(centered_data)\n",
    "print(centered_data_cov.shape)\n"
   ]
  },
  {
   "cell_type": "code",
   "execution_count": null,
   "id": "3afaceea",
   "metadata": {},
   "outputs": [],
   "source": []
  },
  {
   "cell_type": "code",
   "execution_count": null,
   "id": "7fcb42bc",
   "metadata": {},
   "outputs": [],
   "source": []
  }
 ],
 "metadata": {
  "kernelspec": {
   "display_name": "Python 3 (ipykernel)",
   "language": "python",
   "name": "python3"
  },
  "language_info": {
   "codemirror_mode": {
    "name": "ipython",
    "version": 3
   },
   "file_extension": ".py",
   "mimetype": "text/x-python",
   "name": "python",
   "nbconvert_exporter": "python",
   "pygments_lexer": "ipython3",
   "version": "3.9.12"
  }
 },
 "nbformat": 4,
 "nbformat_minor": 5
}
