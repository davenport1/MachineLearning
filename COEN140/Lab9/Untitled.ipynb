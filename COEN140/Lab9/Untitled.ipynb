{
 "cells": [
  {
   "cell_type": "code",
   "execution_count": 1,
   "id": "ce0ac4f1",
   "metadata": {},
   "outputs": [],
   "source": [
    "# Class: COEN 140 Lab Machine Learning/Data Mining\n",
    "# Name: Matthew Davenport\n",
    "# Date: 9/25/2022\n",
    "# Title: Lab 9 – Dimensionality Reduction\n",
    "\n",
    "import numpy as np\n",
    "import math"
   ]
  },
  {
   "cell_type": "code",
   "execution_count": 2,
   "id": "9eae6c87",
   "metadata": {},
   "outputs": [
    {
     "name": "stdout",
     "output_type": "stream",
     "text": [
      "(2000, 784)\n"
     ]
    }
   ],
   "source": [
    "import pickle\n",
    "from sklearn.datasets import fetch_openml\n",
    "\n",
    "try: \n",
    "    with open(\"data.pickle\", \"rb\") as fp:\n",
    "        X_training = pickle.load(fp)\n",
    "    print(\"File unpickled successfully\")\n",
    "\n",
    "except FileNotFoundError:\n",
    "    mnist = fetch_openml('mnist_784', version=1)\n",
    "    X_training = mnist[\"data\"][:2000]\n",
    "    \n",
    "    with open(\"data.pickle\", \"wb\") as fp:\n",
    "        pickle.dump(X_training, fp)\n",
    "\n",
    "print(X_training.shape)"
   ]
  },
  {
   "cell_type": "markdown",
   "id": "dcb0af01",
   "metadata": {},
   "source": [
    "Centering Data for PCA"
   ]
  },
  {
   "cell_type": "code",
   "execution_count": 14,
   "id": "1c55e464",
   "metadata": {},
   "outputs": [
    {
     "name": "stdout",
     "output_type": "stream",
     "text": [
      "Data shape:  (2000, 784)\n",
      "Data size:  2000\n",
      "Means shape:  (2000,)\n",
      "Means:  [35.10841837 39.6619898  24.7997449  ... 54.42729592 27.80994898\n",
      " 77.75765306]\n"
     ]
    }
   ],
   "source": [
    "data = np.asarray(X_training)\n",
    "print(\"Data shape: \",data.shape)\n",
    "\n",
    "data_size = len(data)\n",
    "print(\"Data size: \",data_size)\n",
    "means = np.zeros(data_size)\n",
    "print(\"Means shape: \", means.shape)\n",
    "\n",
    "for i in range(data_size):\n",
    "    means[i] = np.mean(data[i])\n",
    "    \n",
    "print(\"Means: \", means)\n",
    "\n"
   ]
  },
  {
   "cell_type": "code",
   "execution_count": null,
   "id": "d8d1ee4b",
   "metadata": {},
   "outputs": [],
   "source": []
  }
 ],
 "metadata": {
  "kernelspec": {
   "display_name": "Python 3 (ipykernel)",
   "language": "python",
   "name": "python3"
  },
  "language_info": {
   "codemirror_mode": {
    "name": "ipython",
    "version": 3
   },
   "file_extension": ".py",
   "mimetype": "text/x-python",
   "name": "python",
   "nbconvert_exporter": "python",
   "pygments_lexer": "ipython3",
   "version": "3.9.12"
  }
 },
 "nbformat": 4,
 "nbformat_minor": 5
}
