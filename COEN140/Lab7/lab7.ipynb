{
 "cells": [
  {
   "cell_type": "code",
   "execution_count": 7,
   "id": "b426b1a1",
   "metadata": {},
   "outputs": [],
   "source": [
    "# Class: COEN 140 Lab Machine Learning/Data Mining\n",
    "# Name: Matthew Davenport\n",
    "# Date: 9/25/2022\n",
    "# Title: Lab 8 – K-Means Clustering\n",
    "\n",
    "import numpy as np\n",
    "import math"
   ]
  },
  {
   "cell_type": "markdown",
   "id": "2f65237b",
   "metadata": {},
   "source": [
    "Importing Data "
   ]
  },
  {
   "cell_type": "code",
   "execution_count": 8,
   "id": "bc265a0e",
   "metadata": {},
   "outputs": [
    {
     "name": "stdout",
     "output_type": "stream",
     "text": [
      "        0     1     2    3     4     5    6    7     8     9   ...     48  \\\n",
      "0     0.00  0.00  0.00  0.0  1.01  0.00  0.0  0.0  0.00  0.00  ...  0.000   \n",
      "1     0.00  0.00  0.00  0.0  0.00  0.00  0.0  0.0  0.00  0.00  ...  0.098   \n",
      "2     0.00  0.53  0.00  0.0  1.06  0.00  1.6  0.0  0.00  0.53  ...  0.000   \n",
      "3     0.00  0.00  0.23  0.0  0.92  0.00  0.0  0.0  0.23  0.00  ...  0.000   \n",
      "4     0.00  0.00  0.00  0.0  0.00  0.00  0.0  0.0  0.00  0.00  ...  0.000   \n",
      "...    ...   ...   ...  ...   ...   ...  ...  ...   ...   ...  ...    ...   \n",
      "3060  0.00  0.00  0.00  0.0  0.00  0.00  0.0  0.0  0.00  0.00  ...  0.000   \n",
      "3061  0.00  0.00  0.00  0.0  1.96  0.00  0.0  0.0  0.00  0.00  ...  0.000   \n",
      "3062  0.00  0.00  0.00  0.0  0.00  0.00  0.0  0.0  0.00  0.00  ...  0.000   \n",
      "3063  0.33  0.00  0.00  0.0  0.00  0.00  0.0  0.0  0.00  0.00  ...  0.000   \n",
      "3064  0.31  0.00  0.62  0.0  0.00  0.31  0.0  0.0  0.00  0.00  ...  0.000   \n",
      "\n",
      "         49     50     51     52     53     54    55     56   57  \n",
      "0     0.088  0.000  0.000  0.088  0.000  6.718  33.0  215.0  1.0  \n",
      "1     0.589  0.000  0.000  0.000  0.000  2.044  22.0   92.0  1.0  \n",
      "2     0.239  0.079  0.159  0.000  0.000  4.555  51.0  123.0  1.0  \n",
      "3     0.130  0.026  0.026  0.000  0.026  2.222  23.0  480.0  0.0  \n",
      "4     0.000  0.000  0.000  0.000  0.000  1.428   4.0   10.0  0.0  \n",
      "...     ...    ...    ...    ...    ...    ...   ...    ...  ...  \n",
      "3060  0.684  0.000  0.000  0.000  0.000  1.125   2.0    9.0  0.0  \n",
      "3061  0.666  0.000  0.000  0.000  0.000  2.111   7.0   19.0  0.0  \n",
      "3062  0.000  0.000  0.000  0.000  0.000  2.307   8.0   30.0  0.0  \n",
      "3063  0.175  0.058  0.116  0.000  0.000  1.271   5.0   75.0  0.0  \n",
      "3064  0.232  0.000  0.000  0.000  0.000  1.142   3.0   88.0  0.0  \n",
      "\n",
      "[3065 rows x 58 columns]\n",
      "        0      1     2    3     4     5     6     7     8     9   ...     48  \\\n",
      "0     0.00  14.28  0.00  0.0  0.00  0.00  0.00  0.00  0.00  0.00  ...  0.000   \n",
      "1     0.51   0.43  0.29  0.0  0.14  0.03  0.00  0.18  0.54  0.62  ...  0.012   \n",
      "2     0.79   0.19  0.09  0.0  0.00  0.00  0.00  0.09  0.29  0.09  ...  0.000   \n",
      "3     0.00   0.00  0.00  0.0  0.00  0.00  0.00  0.00  0.00  0.00  ...  0.151   \n",
      "4     0.17   0.17  0.25  0.0  0.43  0.08  0.08  0.08  0.69  2.41  ...  0.000   \n",
      "...    ...    ...   ...  ...   ...   ...   ...   ...   ...   ...  ...    ...   \n",
      "1531  0.00   0.00  0.00  0.0  0.00  0.00  0.00  0.00  0.00  0.00  ...  0.000   \n",
      "1532  0.00   0.00  0.00  0.0  0.00  0.00  0.00  0.00  0.00  0.00  ...  0.000   \n",
      "1533  0.00   0.00  0.76  0.0  0.76  0.00  0.50  0.50  0.00  1.01  ...  0.000   \n",
      "1534  0.00   0.00  0.87  0.0  0.00  0.17  0.00  0.00  0.00  0.00  ...  0.022   \n",
      "1535  0.00   0.00  0.00  0.0  0.00  0.00  0.00  0.00  0.00  0.00  ...  0.000   \n",
      "\n",
      "         49     50     51     52     53     54     55      56   57  \n",
      "0     0.000  0.000  0.000  0.000  0.000  1.800    5.0     9.0  0.0  \n",
      "1     0.078  0.000  0.443  0.510  0.133  6.590  739.0  2333.0  1.0  \n",
      "2     0.267  0.000  0.190  0.247  0.000  2.324   19.0   365.0  1.0  \n",
      "3     0.227  0.075  0.075  0.075  0.000  2.482   12.0   139.0  0.0  \n",
      "4     0.107  0.000  0.308  0.067  0.026  4.215   82.0  1214.0  1.0  \n",
      "...     ...    ...    ...    ...    ...    ...    ...     ...  ...  \n",
      "1531  0.000  0.000  0.000  0.000  0.000  1.125    3.0    18.0  0.0  \n",
      "1532  0.000  0.000  0.000  0.000  0.000  1.800    5.0     9.0  0.0  \n",
      "1533  0.078  0.000  0.433  0.433  0.000  2.441   19.0   249.0  1.0  \n",
      "1534  0.022  0.000  0.000  0.000  0.000  1.601   11.0   277.0  0.0  \n",
      "1535  0.000  0.000  0.000  0.000  0.000  1.103    3.0    32.0  1.0  \n",
      "\n",
      "[1536 rows x 58 columns]\n"
     ]
    }
   ],
   "source": [
    "# import data from txt file for test data and training data\n",
    "import pandas as pd\n",
    "\n",
    "train_data = pd.read_csv('C:/Users/daven/COEN140/Lab7/spambase/spam-train', header=None)\n",
    "test_data = pd.read_csv('C:/Users/daven/COEN140/Lab7/spambase/spam-test', header=None)\n",
    "\n",
    "print(train_data)\n",
    "print(test_data)"
   ]
  },
  {
   "cell_type": "markdown",
   "id": "cdf21390",
   "metadata": {},
   "source": [
    "Splitting training and testing data sets into X and y sets"
   ]
  },
  {
   "cell_type": "code",
   "execution_count": 9,
   "id": "b425f341",
   "metadata": {},
   "outputs": [
    {
     "name": "stdout",
     "output_type": "stream",
     "text": [
      "(1536, 57)\n",
      "(1536,)\n"
     ]
    }
   ],
   "source": [
    "X_train = train_data.drop(57, axis=1)\n",
    "y_train = train_data[57]\n",
    "X_test = test_data.drop(57, axis=1)\n",
    "y_test = test_data[57]\n",
    "\n",
    "print(X_test.shape)\n",
    "print(y_test.shape)"
   ]
  },
  {
   "cell_type": "code",
   "execution_count": 10,
   "id": "ab1d7684",
   "metadata": {},
   "outputs": [
    {
     "name": "stdout",
     "output_type": "stream",
     "text": [
      "(1536, 58)\n",
      "(58,)\n"
     ]
    }
   ],
   "source": [
    "# standardizing function: standardize data by subtracting the mean and dividing by standard deviation\n",
    "def standardize(data):\n",
    "    return (data - data.mean(axis=0)) / data.std(axis=0)\n",
    "\n",
    "# sigmoid function to compute sigmoid nescessary for logistic regression\n",
    "def sigmoid(r):\n",
    "    return 1 / (1 + math.exp(-r))\n",
    "\n",
    "# need sigmoid function to be vectorized \n",
    "vectorized_sigmoid = np.vectorize(sigmoid)\n",
    "\n",
    "#standardize training and testing datasets\n",
    "X_train = standardize(X_train)\n",
    "X_test = standardize(X_test)\n",
    "\n",
    "# add dummy feature for X_train and X_test datasets\n",
    "X_training_dummy = X_train.copy()\n",
    "X_training_dummy['dummy'] = np.ones(X_training_dummy.shape[0])\n",
    "X_testing_dummy = X_test.copy()\n",
    "X_testing_dummy['dummy'] = np.ones(X_testing_dummy.shape[0])\n",
    "\n",
    "print(X_testing_dummy.shape)\n",
    " \n",
    "# initialize w to vector of zeros with proper shape\n",
    "w_init = np.random.normal(0,1,size = X_testing_dummy.shape[1])\n",
    "print(w_init.shape)\n",
    "\n",
    "alpha = 5 * (10e-5)\n",
    "threshold = 10e-5"
   ]
  },
  {
   "cell_type": "code",
   "execution_count": 11,
   "id": "dba2a203",
   "metadata": {},
   "outputs": [],
   "source": [
    "# optimize model using gradient descent\n",
    "def model_optimize(w, X, y):\n",
    "    e = 1\n",
    "    while e > threshold: \n",
    "        w_temp = w - alpha * (np.dot((vectorized_sigmoid(np.dot(X,w)) - y), X))\n",
    "        e = np.linalg.norm(w_temp - w)\n",
    "        w = w_temp\n",
    "        \n",
    "    return w\n",
    "\n",
    "# predict based on our sigmoid function\n",
    "def model_predict(w, X):\n",
    "    return vectorized_sigmoid(np.dot(w, X.T))\n",
    "\n",
    "# classify our predictions to a 0 or 1, spam or not \n",
    "def model_binary_predict(predictions):\n",
    "    binary_predictions = []\n",
    "    for x in predictions:\n",
    "        if x < 0.5:\n",
    "            binary_predictions.append(0)\n",
    "        else:\n",
    "            binary_predictions.append(1)\n",
    "            \n",
    "    return binary_predictions\n",
    "\n",
    "#calulcate error\n",
    "def error(actuals, predictions):\n",
    "    correct_predictions = 0\n",
    "    total = len(y_test)\n",
    "    for i in range(total):\n",
    "        if predictions[i] == actuals[i]:\n",
    "            correct_predictions += 1\n",
    "    correct = (correct_predictions / total) * 100\n",
    "    return 100 - correct\n",
    "\n"
   ]
  },
  {
   "cell_type": "code",
   "execution_count": 12,
   "id": "79ca6c98",
   "metadata": {},
   "outputs": [
    {
     "name": "stdout",
     "output_type": "stream",
     "text": [
      "Training error:  6.119791666666657 %\n",
      "Testing error:  6.0546875 %\n"
     ]
    }
   ],
   "source": [
    "w_train = model_optimize(w_init, X_training_dummy, y_train)\n",
    "w_test = model_optimize(w_init, X_testing_dummy, y_test)\n",
    "\n",
    "predictions_training = model_binary_predict(model_predict(w_train, X_training_dummy))\n",
    "predictions_testing = model_binary_predict(model_predict(w_test, X_testing_dummy))\n",
    "\n",
    "error_training = error(y_train, predictions_training)\n",
    "error_testing = error(y_test, predictions_testing)\n",
    "\n",
    "print(\"Training error: \", error_training, \"%\")\n",
    "print(\"Testing error: \", error_testing, \"%\")\n",
    "\n"
   ]
  },
  {
   "cell_type": "code",
   "execution_count": null,
   "id": "dd8a4288",
   "metadata": {},
   "outputs": [],
   "source": []
  }
 ],
 "metadata": {
  "kernelspec": {
   "display_name": "Python 3 (ipykernel)",
   "language": "python",
   "name": "python3"
  },
  "language_info": {
   "codemirror_mode": {
    "name": "ipython",
    "version": 3
   },
   "file_extension": ".py",
   "mimetype": "text/x-python",
   "name": "python",
   "nbconvert_exporter": "python",
   "pygments_lexer": "ipython3",
   "version": "3.9.12"
  }
 },
 "nbformat": 4,
 "nbformat_minor": 5
}
