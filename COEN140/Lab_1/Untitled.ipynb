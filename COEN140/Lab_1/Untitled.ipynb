{
 "cells": [
  {
   "cell_type": "code",
   "execution_count": 1,
   "id": "1030ccc7",
   "metadata": {},
   "outputs": [],
   "source": [
    "%run oddnums.py"
   ]
  },
  {
   "cell_type": "code",
   "execution_count": 5,
   "id": "ae55753f",
   "metadata": {},
   "outputs": [
    {
     "data": {
      "text/plain": [
       "[5, 3, 123, 453]"
      ]
     },
     "execution_count": 5,
     "metadata": {},
     "output_type": "execute_result"
    }
   ],
   "source": [
    "def oddnums(n):\n",
    "    odds = []\n",
    "    for i in n:\n",
    "        if i % 2 != 0:\n",
    "            odds.append(i)\n",
    "        \n",
    "    return odds\n",
    "\n",
    "oddnums([4,2,6,4,5,3,123,456,856,453,54])"
   ]
  },
  {
   "cell_type": "code",
   "execution_count": 23,
   "id": "6cc62268",
   "metadata": {},
   "outputs": [
    {
     "name": "stdout",
     "output_type": "stream",
     "text": [
      "[['Daniel', '21', 'MECH'], ['Joe', '23', 'BIOE'], ['Mike', '22', 'COEN'], ['Ryan', '19', 'ELEN'], ['Shannon', '18', 'AMTH']]\n"
     ]
    }
   ],
   "source": [
    "import csv\n",
    "\n",
    "with open('students.csv', newline = '') as csv_file:\n",
    "    students = []\n",
    "    \n",
    "    csv_reader = csv.reader(csv_file)\n",
    "    for line in csv_reader:\n",
    "        students.append(line)\n",
    "    students.sort()\n",
    "    print(students)\n",
    "    \n",
    "    \n",
    "    \n",
    "    \n",
    "            \n",
    "            "
   ]
  },
  {
   "cell_type": "code",
   "execution_count": 12,
   "id": "3da327f8",
   "metadata": {},
   "outputs": [
    {
     "data": {
      "text/plain": [
       "'b'"
      ]
     },
     "execution_count": 12,
     "metadata": {},
     "output_type": "execute_result"
    }
   ],
   "source": [
    "def char_counter(str):\n",
    "    counts = {}\n",
    "    \n",
    "    for i in str:\n",
    "        if i not in counts:\n",
    "            counts[i] = 0\n",
    "        else: \n",
    "            counts[i] = counts[i] + 1\n",
    "    \n",
    "    return max(counts, key=counts.get)\n",
    "\n",
    "char_counter(\"aabbbccdefg\")\n"
   ]
  },
  {
   "cell_type": "code",
   "execution_count": 16,
   "id": "e5c678cc",
   "metadata": {},
   "outputs": [
    {
     "data": {
      "text/plain": [
       "72.0"
      ]
     },
     "execution_count": 16,
     "metadata": {},
     "output_type": "execute_result"
    }
   ],
   "source": [
    "import math\n",
    "\n",
    "def largest_magnitude(data):\n",
    "    \n",
    "    max = 0;\n",
    "    for i in data:\n",
    "        if math.fabs(i) > max:\n",
    "            max = math.fabs(i)\n",
    "            \n",
    "    return max\n",
    "\n",
    "largest_magnitude([-3, 29, 41, -72, 3, 23, 15])\n",
    "\n"
   ]
  }
 ],
 "metadata": {
  "kernelspec": {
   "display_name": "Python 3 (ipykernel)",
   "language": "python",
   "name": "python3"
  },
  "language_info": {
   "codemirror_mode": {
    "name": "ipython",
    "version": 3
   },
   "file_extension": ".py",
   "mimetype": "text/x-python",
   "name": "python",
   "nbconvert_exporter": "python",
   "pygments_lexer": "ipython3",
   "version": "3.9.12"
  }
 },
 "nbformat": 4,
 "nbformat_minor": 5
}
