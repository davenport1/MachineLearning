{
 "cells": [
  {
   "cell_type": "code",
   "execution_count": 1,
   "id": "54c02fe1",
   "metadata": {},
   "outputs": [],
   "source": [
    "# Class: COEN 140 Lab Machine Learning/Data Mining\n",
    "# Name: Matthew Davenport\n",
    "# Date: 9/25/2022\n",
    "# Title: Lab 5 – Crime predictions using linear and ridge regression without python libraries\n",
    "# Description: This program will perform clssifications\n",
    "#           on crime datasets\n",
    "#           without using python ML libraries\n",
    "#           implementing linear and ridge regression\n",
    "\n",
    "import numpy as np\n",
    "import math\n",
    "import time"
   ]
  },
  {
   "cell_type": "code",
   "execution_count": 44,
   "id": "9d7410ed",
   "metadata": {
    "scrolled": false
   },
   "outputs": [
    {
     "name": "stdout",
     "output_type": "stream",
     "text": [
      "      ViolentCrimesPerPop  population  householdsize  agePct12t21  \\\n",
      "0                    0.67       -0.45          -1.85        -1.06   \n",
      "1                    0.43       -0.45          -0.27        -0.22   \n",
      "2                    0.12       -0.14           1.87         0.55   \n",
      "3                    0.03       -0.38           0.53        -0.28   \n",
      "4                    0.14       -0.30          -1.12        -0.74   \n",
      "...                   ...         ...            ...          ...   \n",
      "1590                 0.09       -0.38          -0.39         0.04   \n",
      "1591                 0.45       -0.06           3.03         1.71   \n",
      "1592                 0.23        0.81          -0.57        -0.48   \n",
      "1593                 0.19        0.18           0.28         1.00   \n",
      "1594                 0.48        1.12           1.93         0.49   \n",
      "\n",
      "      agePct12t29  agePct16t24  agePct65up  numbUrban  pctUrban  medIncome  \\\n",
      "0            0.67         0.08       -0.85      -0.34      0.68      -0.24   \n",
      "1           -0.17        -0.34       -0.58      -0.50     -1.57      -0.29   \n",
      "2            0.04         0.02       -1.19      -0.03      0.68       1.05   \n",
      "3           -0.79        -0.64       -0.35      -0.34      0.46       0.66   \n",
      "4           -0.10        -0.40       -0.30      -0.19      0.68       0.76   \n",
      "...           ...          ...         ...        ...       ...        ...   \n",
      "1590         0.11         0.08       -0.69      -0.27      0.68       0.28   \n",
      "1591         2.55         2.36       -1.58      -0.03      0.68      -0.39   \n",
      "1592         0.04        -0.16        0.65       0.83      0.68      -0.24   \n",
      "1593         1.71         1.76       -0.07       0.20      0.68       0.38   \n",
      "1594         0.88         0.38       -1.41       1.14      0.68       0.19   \n",
      "\n",
      "      ...  NumStreet  PctForeignBorn  PctBornSameState  PctSameHouse85  \\\n",
      "0     ...      -0.23           -0.02             -0.53           -1.08   \n",
      "1     ...      -0.23           -0.33             -0.58            0.03   \n",
      "2     ...      -0.23           -0.11             -1.51            1.07   \n",
      "3     ...      -0.23           -0.46              0.54            0.58   \n",
      "4     ...      -0.23            2.10             -0.92           -0.25   \n",
      "...   ...        ...             ...               ...             ...   \n",
      "1590  ...      -0.23            0.02             -1.61           -1.08   \n",
      "1591  ...      -0.23            1.36             -1.76           -2.01   \n",
      "1592  ...      -0.03            0.15              0.35            0.41   \n",
      "1593  ...      -0.13            1.01              0.15            0.03   \n",
      "1594  ...       0.57            2.01             -0.53           -1.08   \n",
      "\n",
      "      PctSameCity85  PctSameState85  LandArea  PopDens  PctUsePubTrans  \\\n",
      "0             -0.13           -0.66     -0.41    -0.56            1.26   \n",
      "1              0.22           -0.46     -0.50    -0.11           -0.62   \n",
      "2              0.07           -0.01     -0.41     0.77            0.52   \n",
      "3             -0.08           -0.61     -0.23    -0.70           -0.62   \n",
      "4              0.52           -0.06     -0.50     1.71           -0.27   \n",
      "...             ...             ...       ...      ...             ...   \n",
      "1590          -0.73           -1.32     -0.50     0.23           -0.49   \n",
      "1591          -2.63           -3.29     -0.41     0.68            0.17   \n",
      "1592           0.82            0.55      0.13     0.43            0.08   \n",
      "1593          -0.18           -0.66     -0.32     0.72            0.73   \n",
      "1594          -1.38            0.14      0.41     0.33           -0.49   \n",
      "\n",
      "      LemasPctOfficDrugUn  \n",
      "0                   -0.39  \n",
      "1                   -0.39  \n",
      "2                   -0.39  \n",
      "3                   -0.39  \n",
      "4                   -0.39  \n",
      "...                   ...  \n",
      "1590                -0.39  \n",
      "1591                -0.39  \n",
      "1592                 3.40  \n",
      "1593                 0.52  \n",
      "1594                 3.77  \n",
      "\n",
      "[1595 rows x 96 columns]\n",
      "     ViolentCrimesPerPop  population  householdsize  agePct12t21  agePct12t29  \\\n",
      "0                   0.08       -0.14           0.35        -0.41        -0.10   \n",
      "1                   0.22        0.02          -0.45        -0.22        -0.24   \n",
      "2                   0.06       -0.45           0.28        -0.16         0.18   \n",
      "3                   0.16        0.02          -0.27        -0.67        -0.51   \n",
      "4                   0.15       -0.22           1.20         3.71         3.53   \n",
      "..                   ...         ...            ...          ...          ...   \n",
      "394                 0.02       -0.14           0.47        -0.61        -0.65   \n",
      "395                 0.05       -0.22          -0.75         0.87         1.30   \n",
      "396                 0.10       -0.38           1.99         1.07         0.67   \n",
      "397                 0.03       -0.38           0.04        -0.22        -0.65   \n",
      "398                 0.06        0.02          -0.57        -0.48        -0.31   \n",
      "\n",
      "     agePct16t24  agePct65up  numbUrban  pctUrban  medIncome  ...  NumStreet  \\\n",
      "0          -0.46       -1.41      -0.11      0.48       1.43  ...      -0.23   \n",
      "1          -0.40       -0.19       0.12      0.68      -0.29  ...      -0.23   \n",
      "2          -0.46       -1.25      -0.34      0.68       0.14  ...      -0.23   \n",
      "3          -0.58       -0.69       0.12      0.68       0.95  ...      -0.23   \n",
      "4           3.99       -1.19      -0.11      0.68      -1.25  ...      -0.23   \n",
      "..           ...         ...        ...       ...        ...  ...        ...   \n",
      "394        -0.52       -0.24      -0.03      0.68       1.28  ...      -0.23   \n",
      "395         1.28       -0.74      -0.11      0.68      -0.48  ...      -0.23   \n",
      "396         0.14       -0.58      -0.34      0.68      -0.63  ...      -0.23   \n",
      "397        -0.58       -0.58      -0.34      0.59       1.19  ...      -0.23   \n",
      "398        -0.46        0.71       0.12      0.68      -0.48  ...      -0.23   \n",
      "\n",
      "     PctForeignBorn  PctBornSameState  PctSameHouse85  PctSameCity85  \\\n",
      "0             -0.24             -1.17           -0.19          -0.93   \n",
      "1             -0.80              0.49           -0.36          -0.08   \n",
      "2             -0.67              0.05           -0.03          -0.18   \n",
      "3              0.54             -0.68           -0.74          -0.68   \n",
      "4              0.54             -0.63           -2.84          -3.12   \n",
      "..              ...               ...             ...            ...   \n",
      "394            0.02              0.45            1.02           0.87   \n",
      "395           -0.50             -0.39           -0.85          -1.08   \n",
      "396           -0.76              0.89            0.25           0.42   \n",
      "397           -0.33              0.54            0.25           0.12   \n",
      "398           -0.33              1.23            0.47           1.02   \n",
      "\n",
      "     PctSameState85  LandArea  PopDens  PctUsePubTrans  LemasPctOfficDrugUn  \n",
      "0             -0.61      0.13    -0.65            0.65                -0.39  \n",
      "1             -0.26      0.68    -0.70           -0.66                -0.39  \n",
      "2             -0.71     -0.50    -0.26           -0.66                -0.39  \n",
      "3             -0.41      0.13    -0.46            1.22                -0.39  \n",
      "4             -3.29     -0.50     1.07            0.78                -0.39  \n",
      "..              ...       ...      ...             ...                  ...  \n",
      "394            0.65      0.23    -0.65           -0.44                -0.39  \n",
      "395           -0.66     -0.32    -0.01           -0.66                -0.39  \n",
      "396            0.04     -0.32    -0.56           -0.57                -0.39  \n",
      "397           -0.11     -0.32    -0.56           -0.27                -0.39  \n",
      "398            0.85     -0.23     0.38           -0.14                -0.39  \n",
      "\n",
      "[399 rows x 96 columns]\n"
     ]
    }
   ],
   "source": [
    "# import data from txt file for test data and training data\n",
    "import urllib.request\n",
    "import pandas as pd\n",
    "\n",
    "test_data = urllib.request.urlopen('https://www.cse.scu.edu/~yfang/coen140/crime-test.txt')\n",
    "train_data = urllib.request.urlopen('https://www.cse.scu.edu/~yfang/coen140/crime-train.txt')\n",
    "\n",
    "train_data = pd.read_csv(train_data, delimiter='\\t')\n",
    "test_data = pd.read_csv(test_data, delimiter='\\t')\n",
    "print(train_data)\n",
    "print(test_data)\n"
   ]
  },
  {
   "cell_type": "code",
   "execution_count": 45,
   "id": "5f7da4a6",
   "metadata": {},
   "outputs": [
    {
     "name": "stdout",
     "output_type": "stream",
     "text": [
      "[[-0.14  0.35 -0.41 ...  0.65 -0.39  1.  ]\n",
      " [ 0.02 -0.45 -0.22 ... -0.66 -0.39  1.  ]\n",
      " [-0.45  0.28 -0.16 ... -0.66 -0.39  1.  ]\n",
      " ...\n",
      " [-0.38  1.99  1.07 ... -0.57 -0.39  1.  ]\n",
      " [-0.38  0.04 -0.22 ... -0.27 -0.39  1.  ]\n",
      " [ 0.02 -0.57 -0.48 ... -0.14 -0.39  1.  ]]\n",
      "[0.08 0.22 0.06 0.16 0.15 0.28 0.63 0.16 0.25 1.   0.04 0.05 0.86 0.08\n",
      " 0.09 0.17 0.12 0.12 1.   0.16 0.4  0.12 0.07 0.4  0.06 0.21 0.04 0.45\n",
      " 0.02 0.28 0.38 0.22 0.07 0.06 0.16 0.21 1.   0.19 0.26 0.1  0.23 0.09\n",
      " 0.55 1.   0.09 0.41 1.   0.05 0.02 0.09 0.11 0.36 0.03 0.63 0.04 0.02\n",
      " 0.08 0.27 0.52 0.27 0.31 0.06 0.1  0.22 0.6  0.49 0.4  0.02 0.21 0.2\n",
      " 1.   0.5  0.15 0.31 0.22 0.16 0.16 0.32 0.21 0.09 0.09 0.02 0.05 0.15\n",
      " 0.11 0.1  0.06 0.11 0.01 0.1  0.18 0.85 0.05 0.12 0.54 0.06 0.04 0.18\n",
      " 0.44 0.03 0.14 0.03 0.29 0.14 0.71 0.06 0.35 0.07 0.2  0.3  0.05 0.05\n",
      " 0.26 0.62 0.11 0.03 0.17 0.25 0.34 0.39 0.13 0.19 0.11 0.06 0.08 0.01\n",
      " 0.04 0.25 0.08 0.31 1.   0.73 0.18 0.37 1.   0.37 0.04 0.05 0.04 0.2\n",
      " 0.33 0.06 0.03 0.29 1.   0.12 0.51 0.08 0.14 0.28 0.51 0.12 0.19 0.82\n",
      " 0.48 0.22 0.06 0.09 0.29 0.53 0.1  0.06 0.24 0.14 0.03 0.13 0.06 0.02\n",
      " 0.19 0.57 0.04 0.09 0.12 0.19 0.09 0.02 0.12 0.02 0.03 0.12 0.13 0.03\n",
      " 0.24 0.06 0.11 0.24 0.25 0.01 0.17 0.3  0.08 0.28 0.17 0.09 0.17 0.05\n",
      " 0.36 0.01 0.28 0.15 0.52 0.57 0.26 0.15 0.05 0.37 0.41 0.04 0.52 0.2\n",
      " 0.07 0.14 0.37 0.15 0.   0.08 0.39 0.03 0.04 0.22 0.17 0.12 1.   0.03\n",
      " 0.06 0.08 0.31 1.   0.09 0.07 0.59 0.06 0.18 0.17 0.48 0.16 0.61 0.33\n",
      " 0.23 0.12 1.   0.11 0.16 0.03 0.22 0.36 0.6  0.06 0.15 0.06 0.05 0.03\n",
      " 0.15 0.14 0.22 0.53 0.05 0.48 0.29 0.12 0.2  0.09 0.03 0.42 0.07 0.06\n",
      " 0.04 0.43 0.65 0.34 0.26 0.17 0.13 0.28 0.45 0.18 0.41 0.47 0.76 0.03\n",
      " 0.19 0.11 1.   0.26 1.   0.02 0.04 0.03 0.09 1.   0.15 0.33 0.09 0.03\n",
      " 0.36 0.32 0.07 0.38 0.06 0.03 0.02 0.21 0.12 0.04 0.14 0.03 0.51 0.41\n",
      " 0.25 0.09 0.05 0.11 0.54 0.09 0.07 0.08 0.03 0.16 0.15 0.23 0.19 0.04\n",
      " 0.21 0.04 0.69 0.02 0.04 0.19 0.04 0.45 0.11 0.22 0.48 0.12 0.55 0.22\n",
      " 0.86 0.12 0.1  0.11 0.29 0.12 0.11 0.19 0.09 0.   0.62 0.07 0.05 0.65\n",
      " 0.3  0.33 0.24 0.43 0.17 0.34 0.19 0.53 0.81 0.04 0.07 0.21 0.05 0.03\n",
      " 0.05 0.07 0.16 0.22 0.02 0.01 0.05 0.12 0.15 0.93 0.36 0.3  0.52 0.41\n",
      " 0.72 0.3  0.01 0.12 0.01 0.27 1.   0.04 0.84 0.49 0.01 0.45 0.09 0.06\n",
      " 0.39 0.07 0.02 0.05 0.1  0.03 0.06]\n"
     ]
    }
   ],
   "source": [
    "# format data (separations for X and y, and adding dummy feature)\n",
    "y_test = test_data.iloc[:, 0]\n",
    "y_train = train_data.iloc[:, 0]\n",
    "X_test = test_data.iloc[: , 1:]\n",
    "X_train = train_data.iloc[: , 1:]\n",
    "\n",
    "# correct the type to float64\n",
    "X_train = np.float64(X_train)\n",
    "X_test = np.float64(X_test)\n",
    "y_train = np.float64(y_train)\n",
    "y_test = np.float64(y_test)\n",
    "\n",
    "# add dummy feature to X training and testing matrix\n",
    "X_train = np.column_stack((X_train, np.ones(len(X_train))))\n",
    "X_test = np.column_stack((X_test, np.ones(len(X_test))))\n",
    "\n",
    "\n",
    "# df = df.iloc[: , 1:] dataframe keeping everything except first column \n",
    "# dataframe.iloc[:, 0] dataframe extracting only first column\n",
    "\n",
    "print(X_test)\n",
    "print(y_test)"
   ]
  },
  {
   "cell_type": "markdown",
   "id": "b8d778db",
   "metadata": {},
   "source": [
    "Part 1: Implement linear regression model\n",
    "Compute the RMSE value on the training data \n",
    "and test data, respectively. Report both RSME values. \n",
    "Provide a function that, given an NxP numpy array of data points, returns an Nx1 \n",
    "array of predicted outputs. "
   ]
  },
  {
   "cell_type": "markdown",
   "id": "ff03dcd0",
   "metadata": {},
   "source": [
    "Problem1: Given a sample, using linear regression, return a vector of predicted outputs\n"
   ]
  },
  {
   "cell_type": "code",
   "execution_count": 46,
   "id": "cd969718",
   "metadata": {},
   "outputs": [],
   "source": [
    "def problem2(samples):\n",
    "    w = np.dot((np.linalg.inv(np.dot(X_train.T, X_train))), np.dot(X_train.T, y_train))\n",
    "    predicted_outputs = []\n",
    "    for X in samples: \n",
    "        predicted_outputs.append(np.dot(X.T, w))\n",
    "    return predicted_outputs "
   ]
  },
  {
   "cell_type": "markdown",
   "id": "26d3e592",
   "metadata": {},
   "source": [
    "RMSE: Given a list of predicted outputs and correct outputs, return the root mean square error "
   ]
  },
  {
   "cell_type": "code",
   "execution_count": 47,
   "id": "49b68940",
   "metadata": {},
   "outputs": [],
   "source": [
    "def RMSE(predicted_outputs, correct_outputs):\n",
    "    total = 0\n",
    "    differences = []\n",
    "    m = len(predicted_outputs)\n",
    "    differences = (predicted_outputs - correct_outputs) ** 2\n",
    "    for difference in differences: \n",
    "        total += difference\n",
    "    error = math.sqrt(total/m)\n",
    "    return error"
   ]
  },
  {
   "cell_type": "markdown",
   "id": "55dd9660",
   "metadata": {},
   "source": [
    "Now apply problem 1 linear regression to the dataset"
   ]
  },
  {
   "cell_type": "code",
   "execution_count": 48,
   "id": "69f1bf42",
   "metadata": {},
   "outputs": [
    {
     "name": "stdout",
     "output_type": "stream",
     "text": [
      "RMSE for training:  0.127689674217622\n",
      "RMSE for testing:  0.14583464490949688\n"
     ]
    }
   ],
   "source": [
    "# compute predictions for training and testing data\n",
    "linear_training = problem1(X_train)\n",
    "linear_testing = problem1(X_test)\n",
    "\n",
    "# compute the root mean square error for both testing and training predictions\n",
    "linear_training_rmse = RMSE(linear_training, y_train)\n",
    "linear_testing_rmse = RMSE(linear_testing, y_test)\n",
    "\n",
    "# display results\n",
    "print(\"RMSE for training: \", linear_training_rmse)\n",
    "print(\"RMSE for testing: \", linear_testing_rmse)\n"
   ]
  },
  {
   "cell_type": "markdown",
   "id": "e3f6f0bb",
   "metadata": {},
   "source": [
    "Part 2: Implement ridge regression model with lambda = 100. Compute the RMSE value on the training data and test data, respectively. Report both RSME values. Provide a function that, given an NxP numpy array of data points, returns an Nx1 array of predicted outputs."
   ]
  },
  {
   "cell_type": "code",
   "execution_count": 49,
   "id": "18b8564d",
   "metadata": {},
   "outputs": [],
   "source": [
    "def problem2(samples):\n",
    "    reg_lambda = 100\n",
    "    predicted_outputs = []\n",
    "    w = np.dot((np.linalg.inv((np.dot(X_train.T, X_train)) + reg_lambda * np.identity(len(X_train.T)))), \\\n",
    "               np.dot(X_train.T, y_train))\n",
    "    for X in samples:\n",
    "        predicted_outputs.append(np.dot(X.T, w))\n",
    "        \n",
    "    return predicted_outputs"
   ]
  },
  {
   "cell_type": "markdown",
   "id": "7cc97b9c",
   "metadata": {},
   "source": [
    "Now apply ridge regression to the test and train data sets and display the RMSE for both"
   ]
  },
  {
   "cell_type": "code",
   "execution_count": 50,
   "id": "4424e254",
   "metadata": {},
   "outputs": [
    {
     "name": "stdout",
     "output_type": "stream",
     "text": [
      "RMSE for training:  0.13134320424615795\n",
      "RMSE for testing:  0.1476569846852611\n"
     ]
    }
   ],
   "source": [
    "# compute predictions for training and testing data\n",
    "ridge_training = problem2(X_train)\n",
    "ridge_testing = problem2(X_test)\n",
    "\n",
    "# compute the root mean square error for both testing and training predictions\n",
    "ridge_training_rmse = RMSE(ridge_training, y_train)\n",
    "ridge_testing_rmse = RMSE(ridge_testing, y_test)\n",
    "\n",
    "# display results\n",
    "print(\"RMSE for training: \", ridge_training_rmse)\n",
    "print(\"RMSE for testing: \", ridge_testing_rmse)"
   ]
  },
  {
   "cell_type": "markdown",
   "id": "b43a5023",
   "metadata": {},
   "source": [
    "Results: \n",
    "\n",
    "Using linear regression:\n",
    "RMSE for training predictions: 0.127689674217622 = 12.77 %\n",
    "RMSE for testing predictions: 0.14583464490949688 = 14.58 %\n",
    "\n",
    "Using ridge regression: \n",
    "RMSE for training predictions: 0.13134320424615795 = 13.13 %\n",
    "RMSE for testing predictions: 0.1476569846852611 = 14.77 %\n",
    "\n",
    "Using a lambda value of 100 with ridge regression produces a slightly higher root mean square error than just linear regression on the dataset. "
   ]
  },
  {
   "cell_type": "code",
   "execution_count": null,
   "id": "b6dfa8c9",
   "metadata": {},
   "outputs": [],
   "source": []
  },
  {
   "cell_type": "code",
   "execution_count": null,
   "id": "5605af41",
   "metadata": {},
   "outputs": [],
   "source": []
  }
 ],
 "metadata": {
  "kernelspec": {
   "display_name": "Python 3 (ipykernel)",
   "language": "python",
   "name": "python3"
  },
  "language_info": {
   "codemirror_mode": {
    "name": "ipython",
    "version": 3
   },
   "file_extension": ".py",
   "mimetype": "text/x-python",
   "name": "python",
   "nbconvert_exporter": "python",
   "pygments_lexer": "ipython3",
   "version": "3.9.12"
  }
 },
 "nbformat": 4,
 "nbformat_minor": 5
}
