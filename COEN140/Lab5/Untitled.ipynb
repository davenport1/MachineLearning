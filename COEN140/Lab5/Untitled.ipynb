{
 "cells": [
  {
   "cell_type": "code",
   "execution_count": null,
   "id": "a808e2e9",
   "metadata": {},
   "outputs": [],
   "source": [
    "# Class: COEN 140 Lab Machine Learning/Data Mining\n",
    "# Name: Matthew Davenport\n",
    "# Date: 9/25/2022\n",
    "# Title: Lab 5 – Crime predictions using linear and ridge regression without python libraries\n",
    "# Description: This program will perform clssifications\n",
    "#           on crime datasets based on the \n",
    "#           without using python ML libraries\n",
    "#           implementing linear and ridge regression\n",
    "\n",
    "import numpy as np\n",
    "import math\n",
    "import time"
   ]
  },
  {
   "cell_type": "code",
   "execution_count": null,
   "id": "ff3fe37e",
   "metadata": {
    "scrolled": false
   },
   "outputs": [],
   "source": [
    "# import data from txt file for test data and training data\n",
    "import urllib.request\n",
    "import pandas as pd\n",
    "\n",
    "test_data = urllib.request.urlopen('https://www.cse.scu.edu/~yfang/coen140/crime-test.txt')\n",
    "train_data = urllib.request.urlopen('https://www.cse.scu.edu/~yfang/coen140/crime-train.txt')\n",
    "\n",
    "train_data = pd.read_csv(train_data, delimiter='\\t')\n",
    "test_data = pd.read_csv(test_data, delimiter='\\t')\n",
    "# print(train_data)\n",
    "# print(test_data)\n"
   ]
  },
  {
   "cell_type": "code",
   "execution_count": 1,
   "id": "13915969",
   "metadata": {},
   "outputs": [
    {
     "ename": "NameError",
     "evalue": "name 'test_data' is not defined",
     "output_type": "error",
     "traceback": [
      "\u001b[1;31m---------------------------------------------------------------------------\u001b[0m",
      "\u001b[1;31mNameError\u001b[0m                                 Traceback (most recent call last)",
      "Input \u001b[1;32mIn [1]\u001b[0m, in \u001b[0;36m<cell line: 2>\u001b[1;34m()\u001b[0m\n\u001b[0;32m      1\u001b[0m \u001b[38;5;66;03m# format data (separations for X and y, and adding dummy feature)\u001b[39;00m\n\u001b[1;32m----> 2\u001b[0m y_test \u001b[38;5;241m=\u001b[39m \u001b[43mtest_data\u001b[49m\u001b[38;5;241m.\u001b[39miloc[:, \u001b[38;5;241m0\u001b[39m]\n\u001b[0;32m      3\u001b[0m y_train \u001b[38;5;241m=\u001b[39m train_data\u001b[38;5;241m.\u001b[39miloc[:, \u001b[38;5;241m0\u001b[39m]\n\u001b[0;32m      4\u001b[0m X_test \u001b[38;5;241m=\u001b[39m test_data\u001b[38;5;241m.\u001b[39miloc[: , \u001b[38;5;241m1\u001b[39m:]\n",
      "\u001b[1;31mNameError\u001b[0m: name 'test_data' is not defined"
     ]
    }
   ],
   "source": [
    "# format data (separations for X and y, and adding dummy feature)\n",
    "y_test = test_data.iloc[:, 0]\n",
    "y_train = train_data.iloc[:, 0]\n",
    "X_test = test_data.iloc[: , 1:]\n",
    "X_train = train_data.iloc[: , 1:]\n",
    "print(y_test)\n",
    "print(X_test)\n",
    "# df = df.iloc[: , 1:]\n",
    "# dataframe.iloc[:, 0]"
   ]
  },
  {
   "cell_type": "markdown",
   "id": "5479668c",
   "metadata": {},
   "source": [
    "Part 1: Implement linear regression model\n",
    "Compute the RMSE value on the training data \n",
    "and test data, respectively. Report both RSME values. \n",
    "Provide a function that, given an NxP numpy array of data points, returns an Nx1 \n",
    "array of predicted outputs. "
   ]
  },
  {
   "cell_type": "code",
   "execution_count": null,
   "id": "526e68a6",
   "metadata": {},
   "outputs": [],
   "source": [
    "def problem1(samples):\n",
    "    \n",
    "    \n",
    "    return predicted_outputs"
   ]
  }
 ],
 "metadata": {
  "kernelspec": {
   "display_name": "Python 3 (ipykernel)",
   "language": "python",
   "name": "python3"
  },
  "language_info": {
   "codemirror_mode": {
    "name": "ipython",
    "version": 3
   },
   "file_extension": ".py",
   "mimetype": "text/x-python",
   "name": "python",
   "nbconvert_exporter": "python",
   "pygments_lexer": "ipython3",
   "version": "3.9.12"
  }
 },
 "nbformat": 4,
 "nbformat_minor": 5
}
